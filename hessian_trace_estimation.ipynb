{
 "cells": [
  {
   "cell_type": "markdown",
   "metadata": {},
   "source": [
    "## Hessian trace estimation\n",
    "\n",
    "\n",
    "This notebook shows how to efficiently approximate the trace of a Hessian, using automatic differentiation ([PyTorch](https://pytorch.org)) and a recently published randomized algorithm called [Hutch++](https://arxiv.org/abs/2010.09649)."
   ]
  },
  {
   "cell_type": "code",
   "execution_count": 1,
   "metadata": {},
   "outputs": [],
   "source": [
    "import torch\n",
    "torch.set_printoptions(precision=3)"
   ]
  },
  {
   "cell_type": "code",
   "execution_count": 2,
   "metadata": {},
   "outputs": [],
   "source": [
    "class LinearOperator(object):\n",
    "    def __init__(self, matvec):\n",
    "        self._matvec = matvec\n",
    "\n",
    "    def matvec(self, vecs):\n",
    "        return self._matvec(vecs)"
   ]
  },
  {
   "cell_type": "code",
   "execution_count": 3,
   "metadata": {},
   "outputs": [],
   "source": [
    "def hutchpp(A, d, m):\n",
    "    \"\"\"https://arxiv.org/abs/2010.09649\n",
    "\n",
    "    A is the LinearOperator whose trace to estimate\n",
    "    d is the input dimension\n",
    "    m is the number of queries (larger m yields better estimates)\n",
    "    \"\"\"\n",
    "    S = torch.randn(d, m // 3)\n",
    "    G = torch.randn(d, m // 3)\n",
    "    Q, _ = torch.qr(A.matvec(S))\n",
    "    proj = G - Q @ (Q.T @ G)\n",
    "    return torch.trace(Q.T @ A.matvec(Q)) + (3./m)*torch.trace(proj.T @ A.matvec(proj))"
   ]
  },
  {
   "cell_type": "code",
   "execution_count": 4,
   "metadata": {},
   "outputs": [
    {
     "data": {
      "text/plain": [
       "tensor(999781.188)"
      ]
     },
     "execution_count": 4,
     "metadata": {},
     "output_type": "execute_result"
    }
   ],
   "source": [
    "torch.manual_seed(0)\n",
    "d = 1000\n",
    "\n",
    "B = torch.randn(d, d)\n",
    "A = B.T @ B\n",
    "torch.trace(A)"
   ]
  },
  {
   "cell_type": "code",
   "execution_count": 5,
   "metadata": {},
   "outputs": [
    {
     "data": {
      "text/plain": [
       "tensor(982108.562)"
      ]
     },
     "execution_count": 5,
     "metadata": {},
     "output_type": "execute_result"
    }
   ],
   "source": [
    "m = 100\n",
    "estimate = hutchpp(LinearOperator(lambda vec: A@vec), d, m)\n",
    "estimate"
   ]
  },
  {
   "cell_type": "code",
   "execution_count": 6,
   "metadata": {},
   "outputs": [
    {
     "data": {
      "text/plain": [
       "tensor(1.768)"
      ]
     },
     "execution_count": 6,
     "metadata": {},
     "output_type": "execute_result"
    }
   ],
   "source": [
    "percent_error = 100*(estimate - torch.trace(A)).abs() / torch.trace(A)\n",
    "percent_error"
   ]
  },
  {
   "cell_type": "code",
   "execution_count": 7,
   "metadata": {},
   "outputs": [],
   "source": [
    "def make_hvp(f, x):\n",
    "    def hvp(vecs):\n",
    "        # torch.autograd.functional.vhp doesn't support batching\n",
    "        vecs = torch.split(vecs, 1, dim=1)\n",
    "        products = []\n",
    "        for v in vecs:\n",
    "            _, product = torch.autograd.functional.vhp(f, x, v.squeeze())\n",
    "            products.append(product)\n",
    "        return torch.stack(products, dim=1)\n",
    "    return LinearOperator(hvp)"
   ]
  },
  {
   "cell_type": "code",
   "execution_count": 8,
   "metadata": {},
   "outputs": [
    {
     "data": {
      "text/plain": [
       "tensor([[0.000, 0.000, 0.000, 0.000, 0.000],\n",
       "        [0.000, 1.200, 0.000, 0.000, 0.000],\n",
       "        [0.000, 0.000, 2.400, 0.000, 0.000],\n",
       "        [0.000, 0.000, 0.000, 3.600, 0.000],\n",
       "        [0.000, 0.000, 0.000, 0.000, 4.800]])"
      ]
     },
     "execution_count": 8,
     "metadata": {},
     "output_type": "execute_result"
    }
   ],
   "source": [
    "def cubic(x):\n",
    "    return (x**3).mean()\n",
    "\n",
    "\n",
    "x = torch.arange(5, dtype=torch.float)\n",
    "hvp = make_hvp(cubic, x)\n",
    "hessian = hvp.matvec(torch.eye(x.nelement()))\n",
    "hessian"
   ]
  },
  {
   "cell_type": "code",
   "execution_count": 9,
   "metadata": {},
   "outputs": [
    {
     "name": "stdout",
     "output_type": "stream",
     "text": [
      "CPU times: user 3.14 s, sys: 275 ms, total: 3.42 s\n",
      "Wall time: 3.27 s\n"
     ]
    },
    {
     "data": {
      "text/plain": [
       "tensor(29996.998)"
      ]
     },
     "execution_count": 9,
     "metadata": {},
     "output_type": "execute_result"
    }
   ],
   "source": [
    "x = torch.arange(10000, dtype=torch.float)\n",
    "hvp = make_hvp(cubic, x)\n",
    "%time hessian = hvp.matvec(torch.eye(x.nelement()))\n",
    "torch.trace(hessian)"
   ]
  },
  {
   "cell_type": "code",
   "execution_count": 10,
   "metadata": {},
   "outputs": [
    {
     "name": "stdout",
     "output_type": "stream",
     "text": [
      "CPU times: user 72.4 ms, sys: 11.5 ms, total: 83.9 ms\n",
      "Wall time: 40.4 ms\n"
     ]
    },
    {
     "data": {
      "text/plain": [
       "tensor(29615.984)"
      ]
     },
     "execution_count": 10,
     "metadata": {},
     "output_type": "execute_result"
    }
   ],
   "source": [
    "%time estimate = hutchpp(hvp, d=x.nelement(), m=100)\n",
    "estimate"
   ]
  },
  {
   "cell_type": "code",
   "execution_count": 11,
   "metadata": {},
   "outputs": [
    {
     "data": {
      "text/plain": [
       "tensor(1.270)"
      ]
     },
     "execution_count": 11,
     "metadata": {},
     "output_type": "execute_result"
    }
   ],
   "source": [
    "percent_error = 100*(estimate - torch.trace(hessian)).abs() / torch.trace(hessian)\n",
    "percent_error"
   ]
  }
 ],
 "metadata": {
  "kernelspec": {
   "display_name": "Python 3",
   "language": "python",
   "name": "python3"
  },
  "language_info": {
   "codemirror_mode": {
    "name": "ipython",
    "version": 3
   },
   "file_extension": ".py",
   "mimetype": "text/x-python",
   "name": "python",
   "nbconvert_exporter": "python",
   "pygments_lexer": "ipython3",
   "version": "3.8.6"
  }
 },
 "nbformat": 4,
 "nbformat_minor": 4
}
